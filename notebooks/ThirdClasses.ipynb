{
 "cells": [
  {
   "cell_type": "markdown",
   "metadata": {},
   "source": [
    "# Klasy\n",
    "\n",
    "## Zadanie 1\n",
    "\n",
    "Napisz program, który definiuje klasę Samochod z polami spalanie, pojemnosc_baku i stan_baku oraz funkcją pojedz(liczba_kilometrow). Spalanie powinno być liczbą losową z zakresu 5-10, natomaist pojemność baku wynosi 50 litrów. Funkcja pojedz() zmniejsza stan_baku o odpowiednią wartość (biorać pod uwagę spalanie). Jeżeli stan baku osiągnie 0, należy wypisać, ile samochód przejechał kilometrów."
   ]
  },
  {
   "cell_type": "code",
   "execution_count": null,
   "metadata": {},
   "outputs": [],
   "source": []
  },
  {
   "cell_type": "markdown",
   "metadata": {},
   "source": [
    "Rozszerz klasę o funkcję zatankuj(litry), która zwiększa stan baku, jednak ten stan nie może przekroczyć pojemności."
   ]
  },
  {
   "cell_type": "code",
   "execution_count": null,
   "metadata": {},
   "outputs": [],
   "source": []
  },
  {
   "cell_type": "markdown",
   "metadata": {},
   "source": [
    "Rozszerz program o menu, które pozwala użytkownikowi wybrać, którą funkcję klasy wywołać."
   ]
  },
  {
   "cell_type": "code",
   "execution_count": null,
   "metadata": {},
   "outputs": [],
   "source": []
  },
  {
   "cell_type": "markdown",
   "metadata": {},
   "source": [
    "Rozszerz program o wybór samochodu, dla którego ma być wywołana funkcja. Program powinien zawierać listę dwóch samochodów."
   ]
  },
  {
   "cell_type": "code",
   "execution_count": null,
   "metadata": {},
   "outputs": [],
   "source": []
  },
  {
   "cell_type": "markdown",
   "metadata": {},
   "source": [
    "Rozszerz program o funkcję dodawania nowego samochodu do listy."
   ]
  },
  {
   "cell_type": "code",
   "execution_count": null,
   "metadata": {},
   "outputs": [],
   "source": []
  },
  {
   "cell_type": "markdown",
   "metadata": {},
   "source": [
    "Rozszerz program o wypisywanie stanu baku wszystkich samochodów."
   ]
  },
  {
   "cell_type": "code",
   "execution_count": null,
   "metadata": {},
   "outputs": [],
   "source": []
  },
  {
   "cell_type": "markdown",
   "metadata": {},
   "source": [
    "## Zadanie 2\n",
    "\n",
    "Napisz program, który będzie zawierał klasę Kalkulator, będącą podstawowym kalkulatorem dwóch liczb obsługującym dodawanie, odejmowanie, mnożenie i dzielenie. Klasa powinna zawierać pole poprzedni_wynik, gdzie będzie zapisany wynik poprzedniej operacji. W przypadku, gdy użytkownik nie poda drugiego argumentu lub poda None, zamiast tego argumentu powinna być wykorzystana poprzednia wartość."
   ]
  },
  {
   "cell_type": "code",
   "execution_count": null,
   "metadata": {},
   "outputs": [],
   "source": []
  },
  {
   "cell_type": "markdown",
   "metadata": {},
   "source": [
    "## Zadanie \n",
    "\n",
    "Napisz program, który wygeneruje listę 20 losowych liczb, a następnie je posortuje."
   ]
  },
  {
   "cell_type": "code",
   "execution_count": null,
   "metadata": {},
   "outputs": [],
   "source": []
  },
  {
   "cell_type": "markdown",
   "metadata": {},
   "source": [
    "## Zadanie \n",
    "\n",
    "Napisz program, który dla N kolejnych liczb całkowitych (podawanych przez użytkownika) wylosuje M (liczba podawana przez użytkownika) liczb."
   ]
  },
  {
   "cell_type": "code",
   "execution_count": null,
   "metadata": {},
   "outputs": [],
   "source": []
  },
  {
   "cell_type": "markdown",
   "metadata": {},
   "source": [
    "## Zadanie\n",
    "\n",
    "Napisz program, który wczyta z pliku kolejne wartości, a następnie je posortuje i zapisze do tego samego pliku."
   ]
  },
  {
   "cell_type": "markdown",
   "metadata": {},
   "source": [
    "## Zadanie\n",
    "\n",
    "Napisz program, który wygeneruje liczbę pasażerów (w zakresie od 1 do 50 włącznie) pewnej linii autobusowej dla każdego z 7 dni tygodnia i zapisze te wartosci do pliku \"rozkład.txt\".\n",
    "\n",
    "Rozszerz program tak, aby dla każdego dnia liczba pasażerów (w zakresie od 1 do 50) była generowana dla godzin od 8 do 20 (włącznie). Wynik zapisz do pliku.\n",
    "\n",
    "Rozszerz program tak, aby liczył średnią godzinową liczbę pasażerów dla każdego dnia i wypisywał to w konsoli.\n",
    "\n",
    "Rozszerz program tak, aby liczył średnią liczbę pasażerów o danej godzine w ciągu tygodnia i wypisywał to w konsoli."
   ]
  },
  {
   "cell_type": "markdown",
   "metadata": {},
   "source": [
    "## Zadanie\n",
    "\n",
    "Narysuj funkcję y = sin(x)+cos(5\\*x) dla x$\\in$\\[0, 5\\]"
   ]
  },
  {
   "cell_type": "code",
   "execution_count": null,
   "metadata": {},
   "outputs": [],
   "source": []
  }
 ],
 "metadata": {
  "kernelspec": {
   "display_name": "Python 3",
   "language": "python",
   "name": "python3"
  },
  "language_info": {
   "codemirror_mode": {
    "name": "ipython",
    "version": 3
   },
   "file_extension": ".py",
   "mimetype": "text/x-python",
   "name": "python",
   "nbconvert_exporter": "python",
   "pygments_lexer": "ipython3",
   "version": "3.7.3"
  }
 },
 "nbformat": 4,
 "nbformat_minor": 4
}
